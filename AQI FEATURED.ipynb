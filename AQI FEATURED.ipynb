{
 "cells": [
  {
   "cell_type": "code",
   "execution_count": null,
   "id": "a81ab5ea",
   "metadata": {},
   "outputs": [],
   "source": [
    "import pandas as pd\n",
    "\n",
    "# Step 1: Read the processed CSV file into a pandas DataFrame\n",
    "df = pd.read_csv('city_day_processed.csv')\n",
    "\n",
    "# Step 2: Date-Based Features\n",
    "df['Date'] = pd.to_datetime(df['Date'])\n",
    "df['Year'] = df['Date'].dt.year\n",
    "df['Month'] = df['Date'].dt.month\n",
    "df['Day'] = df['Date'].dt.day\n",
    "df['DayOfWeek'] = df['Date'].dt.dayofweek\n",
    "df['Season'] = df['Month'].apply(lambda x: (x % 12 + 3) // 3)\n",
    "\n",
    "# Step 3: Ratio Features\n",
    "df['PM2.5_PM10_Ratio'] = df['PM2.5'] / df['PM10']\n",
    "df['NOx_NO2_Ratio'] = df['NOx'] / df['NO2']\n",
    "df['PM2.5_AQI_Ratio'] = df['PM2.5'] / df['AQI']\n",
    "df['PM10_AQI_Ratio'] = df['PM10'] / df['AQI']\n",
    "df['NOx_AQI_Ratio'] = df['NOx'] / df['AQI']\n",
    "\n",
    "# Step 4: Rolling/Moving Averages (Example: 7-day rolling average)\n",
    "df['PM2.5_7day_avg'] = df['PM2.5'].rolling(window=7).mean()\n",
    "df['PM10_7day_avg'] = df['PM10'].rolling(window=7).mean()\n",
    "\n",
    "# Step 5: Lag Features (Example: Previous day's PM2.5)\n",
    "df['PM2.5_Lag1'] = df['PM2.5'].shift(1)\n",
    "\n",
    "# Step 6: AQI Category Encoding\n",
    "aqi_category_mapping = {\n",
    "    'Good': 1,\n",
    "    'Satisfactory': 2,\n",
    "    'Moderate': 3,\n",
    "    'Poor': 4,\n",
    "    'Very Poor': 5,\n",
    "    'Severe': 6\n",
    "}\n",
    "df['AQI_Category_Encoded'] = df['AQI_Bucket'].map(aqi_category_mapping)\n",
    "\n",
    "# Step 7: Interaction Features\n",
    "# Example: Interaction between PM2.5 and NO2\n",
    "df['PM2.5_x_NO2'] = df['PM2.5'] * df['NO2']\n",
    "\n",
    "# Save the final DataFrame with the new features to a new CSV file\n",
    "df.to_csv('city_day_featured.csv', index=False) explain me this too"
   ]
  }
 ],
 "metadata": {
  "kernelspec": {
   "display_name": "Python 3 (ipykernel)",
   "language": "python",
   "name": "python3"
  },
  "language_info": {
   "codemirror_mode": {
    "name": "ipython",
    "version": 3
   },
   "file_extension": ".py",
   "mimetype": "text/x-python",
   "name": "python",
   "nbconvert_exporter": "python",
   "pygments_lexer": "ipython3",
   "version": "3.9.7"
  }
 },
 "nbformat": 4,
 "nbformat_minor": 5
}
